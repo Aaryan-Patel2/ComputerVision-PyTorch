{
 "cells": [
  {
   "cell_type": "markdown",
   "metadata": {
    "colab_type": "text",
    "id": "view-in-github"
   },
   "source": [
    "<a href=\"https://colab.research.google.com/github/PacktPublishing/Modern-Computer-Vision-with-PyTorch-2E/blob/main/Chapter02/Specifying_batch_size_while_training_a_model.ipynb\" target=\"_parent\"><img src=\"https://colab.research.google.com/assets/colab-badge.svg\" alt=\"Open In Colab\"/></a>"
   ]
  },
  {
   "cell_type": "code",
   "execution_count": 52,
   "metadata": {
    "ExecuteTime": {
     "end_time": "2020-09-25T19:38:09.313991Z",
     "start_time": "2020-09-25T19:38:09.019280Z"
    },
    "id": "qMRMqX5bxknN"
   },
   "outputs": [],
   "source": [
    "from torch.utils.data import Dataset, DataLoader, TensorDataset\n",
    "import torch\n",
    "import torch.nn as nn"
   ]
  },
  {
   "cell_type": "code",
   "execution_count": 2,
   "metadata": {
    "ExecuteTime": {
     "end_time": "2020-09-25T19:38:09.317494Z",
     "start_time": "2020-09-25T19:38:09.315108Z"
    },
    "id": "pwlhqEFtxldo"
   },
   "outputs": [],
   "source": [
    "x = [[1,2],[3,4],[5,6],[7,8]]\n",
    "y = [[3],[7],[11],[15]]"
   ]
  },
  {
   "cell_type": "code",
   "execution_count": 3,
   "metadata": {
    "ExecuteTime": {
     "end_time": "2020-09-25T19:38:09.322276Z",
     "start_time": "2020-09-25T19:38:09.319108Z"
    },
    "id": "Xvn8m82PxqGL"
   },
   "outputs": [],
   "source": [
    "X = torch.tensor(x).float()\n",
    "Y = torch.tensor(y).float()"
   ]
  },
  {
   "cell_type": "code",
   "execution_count": 4,
   "metadata": {
    "ExecuteTime": {
     "end_time": "2020-09-25T19:38:10.908620Z",
     "start_time": "2020-09-25T19:38:09.324375Z"
    },
    "id": "suZ9rXQqxrUi"
   },
   "outputs": [],
   "source": [
    "device = 'cuda' if torch.cuda.is_available() else 'cpu'\n",
    "X = X.to(device)\n",
    "Y = Y.to(device)"
   ]
  },
  {
   "cell_type": "code",
   "execution_count": 11,
   "metadata": {
    "ExecuteTime": {
     "end_time": "2020-09-25T19:38:10.913405Z",
     "start_time": "2020-09-25T19:38:10.909638Z"
    },
    "colab": {
     "base_uri": "https://localhost:8080/",
     "height": 105
    },
    "id": "GZwy83Zaxsrw",
    "outputId": "cb09c682-1509-420d-d663-91dff0f00e91"
   },
   "outputs": [
    {
     "name": "stderr",
     "output_type": "stream",
     "text": [
      "C:\\Users\\Aryan\\AppData\\Local\\Temp\\ipykernel_27416\\2480197041.py:3: UserWarning: To copy construct from a tensor, it is recommended to use sourceTensor.clone().detach() or sourceTensor.clone().detach().requires_grad_(True), rather than torch.tensor(sourceTensor).\n",
      "  self.x = torch.tensor(x).float()\n",
      "C:\\Users\\Aryan\\AppData\\Local\\Temp\\ipykernel_27416\\2480197041.py:4: UserWarning: To copy construct from a tensor, it is recommended to use sourceTensor.clone().detach() or sourceTensor.clone().detach().requires_grad_(True), rather than torch.tensor(sourceTensor).\n",
      "  self.y = torch.tensor(y).float()\n"
     ]
    }
   ],
   "source": [
    "class MyDataset(Dataset):\n",
    "    def __init__(self,x,y):\n",
    "        self.x = torch.tensor(x).float()\n",
    "        self.y = torch.tensor(y).float()\n",
    "    def __len__(self):\n",
    "        return len(self.x)\n",
    "    def __getitem__(self, ix):\n",
    "        return self.x[ix], self.y[ix]\n",
    "\n",
    "ds = MyDataset(X, Y)"
   ]
  },
  {
   "cell_type": "code",
   "execution_count": 12,
   "metadata": {
    "ExecuteTime": {
     "end_time": "2020-09-25T19:38:10.917418Z",
     "start_time": "2020-09-25T19:38:10.915031Z"
    },
    "id": "K28I9mj-x1yB"
   },
   "outputs": [],
   "source": [
    "dl = DataLoader(ds, batch_size=2, shuffle=True)"
   ]
  },
  {
   "cell_type": "code",
   "execution_count": 13,
   "metadata": {
    "ExecuteTime": {
     "end_time": "2020-09-25T19:38:10.922176Z",
     "start_time": "2020-09-25T19:38:10.918671Z"
    },
    "id": "i1uNDQLDx3bb"
   },
   "outputs": [],
   "source": [
    "class MyNeuralNet(nn.Module):\n",
    "    def __init__(self):\n",
    "        super().__init__()\n",
    "        self.input_to_hidden_layer = nn.Linear(2,8)\n",
    "        self.hidden_layer_activation = nn.ReLU()\n",
    "        self.hidden_to_output_layer = nn.Linear(8,1)\n",
    "    def forward(self, x):\n",
    "        x = self.input_to_hidden_layer(x)\n",
    "        x = self.hidden_layer_activation(x)\n",
    "        x = self.hidden_to_output_layer(x)\n",
    "        return x"
   ]
  },
  {
   "cell_type": "code",
   "execution_count": 79,
   "metadata": {
    "ExecuteTime": {
     "end_time": "2020-09-25T19:38:10.928421Z",
     "start_time": "2020-09-25T19:38:10.924741Z"
    },
    "id": "M5GAnaPmx5w5"
   },
   "outputs": [
    {
     "name": "stdout",
     "output_type": "stream",
     "text": [
      "tensor([[7., 8.],\n",
      "        [3., 4.]]) tensor([[15.],\n",
      "        [ 7.]])\n",
      "tensor([[5., 6.],\n",
      "        [1., 2.]]) tensor([[11.],\n",
      "        [ 3.]])\n"
     ]
    }
   ],
   "source": [
    "mynet = MyNeuralNet().to(device)\n",
    "loss_func = nn.MSELoss()\n",
    "from torch.optim import SGD\n",
    "opt = SGD(mynet.parameters(), lr = 0.001)\n",
    "\n",
    "for x,y in dl: # 2*2 input --> 1*2 output\n",
    "    print(x,y)"
   ]
  },
  {
   "cell_type": "code",
   "execution_count": 85,
   "metadata": {
    "ExecuteTime": {
     "end_time": "2020-09-25T19:38:11.011394Z",
     "start_time": "2020-09-25T19:38:10.929771Z"
    },
    "colab": {
     "base_uri": "https://localhost:8080/",
     "height": 34
    },
    "id": "_da8xi-9x7oJ",
    "outputId": "7a59135d-f162-4178-f05e-2e5492893216"
   },
   "outputs": [
    {
     "name": "stdout",
     "output_type": "stream",
     "text": [
      "4\n",
      "4\n",
      "0.1966240406036377\n"
     ]
    }
   ],
   "source": [
    "nonbatch_ds = TensorDataset(X,Y)\n",
    "print(len(nonbatch_ds))\n",
    "print(len(ds))\n",
    "\n",
    "import time\n",
    "loss_history = []\n",
    "start = time.time()\n",
    "for _ in range(50):\n",
    "    for data in ds: #This is where we use the 2 instances/samples\n",
    "        x, y = data\n",
    "        opt.zero_grad() #This right here clears the previous instance of gradients; prevents gradient accumulation\n",
    "        loss_value = loss_func(mynet(x),y)\n",
    "        loss_value.backward()\n",
    "        opt.step() #This is the update step (weight adjustment)\n",
    "        loss_history.append(loss_value.item())\n",
    "end = time.time()\n",
    "print(end - start)"
   ]
  },
  {
   "cell_type": "code",
   "execution_count": 86,
   "metadata": {
    "ExecuteTime": {
     "end_time": "2020-09-25T19:38:11.014114Z",
     "start_time": "2020-09-25T19:38:11.012332Z"
    },
    "id": "ou1Hdxb4x9TP"
   },
   "outputs": [],
   "source": [
    "val_x = [[10,11]]"
   ]
  },
  {
   "cell_type": "code",
   "execution_count": 87,
   "metadata": {
    "ExecuteTime": {
     "end_time": "2020-09-25T19:38:11.017321Z",
     "start_time": "2020-09-25T19:38:11.015262Z"
    },
    "id": "OtA5Oswrx_Sl"
   },
   "outputs": [],
   "source": [
    "val_x = torch.tensor(val_x).float().to(device)"
   ]
  },
  {
   "cell_type": "code",
   "execution_count": 88,
   "metadata": {
    "ExecuteTime": {
     "end_time": "2020-09-25T19:38:11.025594Z",
     "start_time": "2020-09-25T19:38:11.018406Z"
    },
    "colab": {
     "base_uri": "https://localhost:8080/",
     "height": 34
    },
    "id": "UysdiiFSyAf1",
    "outputId": "f11228a4-0aaa-4851-eee2-a855a93acd91"
   },
   "outputs": [
    {
     "data": {
      "text/plain": [
       "tensor([[21.1855]], grad_fn=<AddmmBackward0>)"
      ]
     },
     "execution_count": 88,
     "metadata": {},
     "output_type": "execute_result"
    }
   ],
   "source": [
    "mynet(val_x)"
   ]
  },
  {
   "cell_type": "code",
   "execution_count": null,
   "metadata": {
    "id": "rHYynD1wyByW"
   },
   "outputs": [],
   "source": []
  }
 ],
 "metadata": {
  "colab": {
   "include_colab_link": true,
   "name": "Specifying_batch_size_while_training_a_model.ipynb",
   "provenance": []
  },
  "kernelspec": {
   "display_name": "Python 3 (ipykernel)",
   "language": "python",
   "name": "python3"
  },
  "language_info": {
   "codemirror_mode": {
    "name": "ipython",
    "version": 3
   },
   "file_extension": ".py",
   "mimetype": "text/x-python",
   "name": "python",
   "nbconvert_exporter": "python",
   "pygments_lexer": "ipython3",
   "version": "3.11.3"
  }
 },
 "nbformat": 4,
 "nbformat_minor": 4
}
