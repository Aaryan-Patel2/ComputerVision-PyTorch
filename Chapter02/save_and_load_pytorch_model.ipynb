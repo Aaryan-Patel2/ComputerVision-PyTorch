{
 "cells": [
  {
   "cell_type": "markdown",
   "metadata": {
    "colab_type": "text",
    "id": "view-in-github"
   },
   "source": [
    "<a href=\"https://colab.research.google.com/github/PacktPublishing/Modern-Computer-Vision-with-PyTorch-2E/blob/main/Chapter02/save_and_load_pytorch_model.ipynb\" target=\"_parent\"><img src=\"https://colab.research.google.com/assets/colab-badge.svg\" alt=\"Open In Colab\"/></a>"
   ]
  },
  {
   "cell_type": "code",
   "execution_count": 1,
   "metadata": {
    "ExecuteTime": {
     "end_time": "2020-09-25T19:46:43.317635Z",
     "start_time": "2020-09-25T19:46:43.315050Z"
    },
    "id": "D5_lUQ_JzxNQ"
   },
   "outputs": [],
   "source": [
    "x = [[1,2],[3,4],[5,6],[7,8]]\n",
    "y = [[3],[7],[11],[15]]"
   ]
  },
  {
   "cell_type": "code",
   "execution_count": 2,
   "metadata": {
    "ExecuteTime": {
     "end_time": "2020-09-25T19:46:43.632085Z",
     "start_time": "2020-09-25T19:46:43.319154Z"
    },
    "id": "TG0fNwONz6yn"
   },
   "outputs": [],
   "source": [
    "import torch\n",
    "import torch.nn as nn\n",
    "import numpy as np\n",
    "from torch.utils.data import Dataset, DataLoader\n",
    "device = 'cuda' if torch.cuda.is_available() else 'cpu'"
   ]
  },
  {
   "cell_type": "code",
   "execution_count": 3,
   "metadata": {
    "ExecuteTime": {
     "end_time": "2020-09-25T19:46:43.636696Z",
     "start_time": "2020-09-25T19:46:43.633237Z"
    },
    "id": "f4-xTYoCz8U9"
   },
   "outputs": [],
   "source": [
    "class MyDataset(Dataset):\n",
    "    def __init__(self, x, y):\n",
    "        self.x = torch.tensor(x).float().to(device)\n",
    "        self.y = torch.tensor(y).float().to(device)\n",
    "    def __getitem__(self, ix):\n",
    "        return self.x[ix], self.y[ix]\n",
    "    def __len__(self): \n",
    "        return len(self.x)"
   ]
  },
  {
   "cell_type": "code",
   "execution_count": 4,
   "metadata": {
    "ExecuteTime": {
     "end_time": "2020-09-25T19:46:45.210534Z",
     "start_time": "2020-09-25T19:46:43.638037Z"
    },
    "id": "WeBe83XQz9we"
   },
   "outputs": [],
   "source": [
    "ds = MyDataset(x, y)\n",
    "dl = DataLoader(ds, batch_size=2, shuffle=True)"
   ]
  },
  {
   "cell_type": "code",
   "execution_count": 5,
   "metadata": {
    "ExecuteTime": {
     "end_time": "2020-09-25T19:46:45.214494Z",
     "start_time": "2020-09-25T19:46:45.211517Z"
    },
    "id": "Vcg57P86z_oF"
   },
   "outputs": [],
   "source": [
    "model = nn.Sequential(\n",
    "    nn.Linear(2, 8),\n",
    "    nn.ReLU(),\n",
    "    nn.Linear(8, 1)\n",
    ").to(device)"
   ]
  },
  {
   "cell_type": "code",
   "execution_count": 6,
   "metadata": {
    "ExecuteTime": {
     "end_time": "2020-09-25T19:46:46.908328Z",
     "start_time": "2020-09-25T19:46:45.215657Z"
    },
    "colab": {
     "base_uri": "https://localhost:8080/",
     "height": 85
    },
    "id": "7FGa-UWK0BIX",
    "outputId": "570c4f77-ef48-46c7-85b9-49b41eec4088"
   },
   "outputs": [
    {
     "name": "stdout",
     "output_type": "stream",
     "text": [
      "Requirement already satisfied: torch_summary in c:\\users\\aryan\\appdata\\local\\programs\\python\\python311\\lib\\site-packages (1.4.5)\n",
      "Note: you may need to restart the kernel to use updated packages.\n"
     ]
    }
   ],
   "source": [
    "%pip install torch_summary\n",
    "from torchsummary import summary"
   ]
  },
  {
   "cell_type": "code",
   "execution_count": 7,
   "metadata": {
    "ExecuteTime": {
     "end_time": "2020-09-25T19:46:46.921020Z",
     "start_time": "2020-09-25T19:46:46.909862Z"
    },
    "colab": {
     "base_uri": "https://localhost:8080/",
     "height": 595
    },
    "id": "UVZlHyXh0Fyd",
    "outputId": "1b7c50ea-f954-4a56-8eb0-8095891c943c"
   },
   "outputs": [
    {
     "name": "stdout",
     "output_type": "stream",
     "text": [
      "==========================================================================================\n",
      "Layer (type:depth-idx)                   Output Shape              Param #\n",
      "==========================================================================================\n",
      "├─Linear: 1-1                            [-1, 8]                   24\n",
      "├─ReLU: 1-2                              [-1, 8]                   --\n",
      "├─Linear: 1-3                            [-1, 1]                   9\n",
      "==========================================================================================\n",
      "Total params: 33\n",
      "Trainable params: 33\n",
      "Non-trainable params: 0\n",
      "Total mult-adds (M): 0.00\n",
      "==========================================================================================\n",
      "Input size (MB): 0.00\n",
      "Forward/backward pass size (MB): 0.00\n",
      "Params size (MB): 0.00\n",
      "Estimated Total Size (MB): 0.00\n",
      "==========================================================================================\n"
     ]
    }
   ],
   "source": [
    "summary(model, torch.zeros(1,2));"
   ]
  },
  {
   "cell_type": "code",
   "execution_count": 8,
   "metadata": {
    "ExecuteTime": {
     "end_time": "2020-09-25T19:46:46.997392Z",
     "start_time": "2020-09-25T19:46:46.922234Z"
    },
    "colab": {
     "base_uri": "https://localhost:8080/",
     "height": 34
    },
    "id": "NDHfUDbW0Lh_",
    "outputId": "c0f4620b-4479-4ecc-d3e2-77e7d067b5d8"
   },
   "outputs": [
    {
     "name": "stdout",
     "output_type": "stream",
     "text": [
      "0.10201859474182129\n"
     ]
    }
   ],
   "source": [
    "loss_func = nn.MSELoss()\n",
    "from torch.optim import SGD\n",
    "opt = SGD(model.parameters(), lr = 0.001)\n",
    "import time\n",
    "loss_history = []\n",
    "start = time.time()\n",
    "for _ in range(50):\n",
    "    for ix, iy in dl:\n",
    "        opt.zero_grad()\n",
    "        loss_value = loss_func(model(ix),iy)\n",
    "        loss_value.backward()\n",
    "        opt.step()\n",
    "        loss_history.append(loss_value.item())\n",
    "end = time.time()\n",
    "print(end - start)"
   ]
  },
  {
   "cell_type": "markdown",
   "metadata": {
    "ExecuteTime": {
     "end_time": "2020-09-25T19:45:14.978405Z",
     "start_time": "2020-09-25T19:45:14.976623Z"
    },
    "id": "JrHJXeCl2FHm"
   },
   "source": [
    "### Saving"
   ]
  },
  {
   "cell_type": "code",
   "execution_count": 9,
   "metadata": {
    "ExecuteTime": {
     "end_time": "2020-09-25T19:46:47.132743Z",
     "start_time": "2020-09-25T19:46:46.998346Z"
    },
    "id": "FwNYJ83V2FHp",
    "outputId": "c2f89080-36c2-4c2a-8f05-960990921fe1"
   },
   "outputs": [
    {
     "name": "stdout",
     "output_type": "stream",
     "text": [
      "OrderedDict([('0.weight', tensor([[ 0.0880, -0.0743],\n",
      "        [ 0.5793,  0.5828],\n",
      "        [ 0.5656, -0.5103],\n",
      "        [-0.0792, -0.3638],\n",
      "        [ 0.1229, -0.3625],\n",
      "        [-0.4236,  0.5300],\n",
      "        [ 0.3870,  1.0344],\n",
      "        [-0.0266, -0.6840]])), ('0.bias', tensor([-0.0302,  0.2247, -0.3059, -0.6070,  0.5101, -0.6231, -0.6089,  0.5192])), ('2.weight', tensor([[-0.1855,  0.6012, -0.2590,  0.2461,  0.3138,  0.0634,  0.9225,  0.0029]])), ('2.bias', tensor([0.0391]))])\n"
     ]
    }
   ],
   "source": [
    "save_path = 'mymodel.pth'\n",
    "torch.save(model.state_dict(), save_path) #This saves the MODEL too\n",
    "\n",
    "print(model.state_dict()) #The weights are shown, labeled and saved (line above)\n",
    "#!du -hsc {save_path} -->  size of the model on disk; Unix/Linux cmd to show disk usage"
   ]
  },
  {
   "cell_type": "markdown",
   "metadata": {
    "id": "1ew37R8X2FHr"
   },
   "source": [
    "### Loading"
   ]
  },
  {
   "cell_type": "code",
   "execution_count": 10,
   "metadata": {
    "ExecuteTime": {
     "end_time": "2020-09-25T19:46:47.153931Z",
     "start_time": "2020-09-25T19:46:47.138011Z"
    },
    "id": "93-_e2N62FHr",
    "outputId": "68c8fa79-e492-4a92-ec33-d4cff2dbf4ba"
   },
   "outputs": [],
   "source": [
    "#load_path = 'mymodel.pth'\n",
    "#model.load_state_dict(torch.load(load_path))"
   ]
  },
  {
   "cell_type": "markdown",
   "metadata": {
    "id": "Qiqv1PFH2FHu"
   },
   "source": [
    "### Predictions"
   ]
  },
  {
   "cell_type": "code",
   "execution_count": 19,
   "metadata": {
    "ExecuteTime": {
     "end_time": "2020-09-25T19:46:47.165958Z",
     "start_time": "2020-09-25T19:46:47.158191Z"
    },
    "id": "-Y-j0JeW0WKz"
   },
   "outputs": [
    {
     "data": {
      "text/plain": [
       "Sequential(\n",
       "  (0): Linear(in_features=2, out_features=8, bias=True)\n",
       "  (1): ReLU()\n",
       "  (2): Linear(in_features=8, out_features=1, bias=True)\n",
       ")"
      ]
     },
     "execution_count": 19,
     "metadata": {},
     "output_type": "execute_result"
    }
   ],
   "source": [
    "val = [[8,9],[10,11],[1.5,2.5]]\n",
    "val = torch.tensor(val).float()\n",
    "\n",
    "new_state_dict = torch.load('mymodel.pth')\n",
    "model.load_state_dict(new_state_dict)  # This modifies `model` in-place\n",
    "\n",
    "# Set the model to evaluation mode\n",
    "model.eval()"
   ]
  },
  {
   "cell_type": "code",
   "execution_count": 20,
   "metadata": {
    "ExecuteTime": {
     "end_time": "2020-09-25T19:46:47.184080Z",
     "start_time": "2020-09-25T19:46:47.170476Z"
    },
    "colab": {
     "base_uri": "https://localhost:8080/",
     "height": 68
    },
    "id": "KdNMIy4u0Xkt",
    "outputId": "1fc3883d-0692-409d-ecb8-d5dd98583285"
   },
   "outputs": [
    {
     "data": {
      "text/plain": [
       "tensor([[17.0433],\n",
       "        [21.0715],\n",
       "        [ 3.9361]], grad_fn=<AddmmBackward0>)"
      ]
     },
     "execution_count": 20,
     "metadata": {},
     "output_type": "execute_result"
    }
   ],
   "source": [
    "model(val.to(device))"
   ]
  },
  {
   "cell_type": "code",
   "execution_count": null,
   "metadata": {
    "ExecuteTime": {
     "end_time": "2020-09-25T19:46:47.193074Z",
     "start_time": "2020-09-25T19:46:47.186259Z"
    },
    "id": "FCagMOUM2FHz",
    "outputId": "9dcc6908-9188-443b-dc8c-57058e2087cf"
   },
   "outputs": [
    {
     "data": {
      "text/plain": [
       "tensor([17., 21.,  4.])"
      ]
     },
     "execution_count": 27,
     "metadata": {},
     "output_type": "execute_result"
    }
   ],
   "source": [
    "val.sum(-1)"
   ]
  }
 ],
 "metadata": {
  "colab": {
   "include_colab_link": true,
   "name": "save_and_load_pytorch_model.ipynb",
   "provenance": []
  },
  "kernelspec": {
   "display_name": "Python 3 (ipykernel)",
   "language": "python",
   "name": "python3"
  },
  "language_info": {
   "codemirror_mode": {
    "name": "ipython",
    "version": 3
   },
   "file_extension": ".py",
   "mimetype": "text/x-python",
   "name": "python",
   "nbconvert_exporter": "python",
   "pygments_lexer": "ipython3",
   "version": "3.11.3"
  }
 },
 "nbformat": 4,
 "nbformat_minor": 4
}
